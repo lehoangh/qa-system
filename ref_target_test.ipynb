{
 "cells": [
  {
   "cell_type": "code",
   "execution_count": 1,
   "metadata": {
    "collapsed": true
   },
   "outputs": [
    {
     "name": "stderr",
     "output_type": "stream",
     "text": [
      "/usr/lib/python3.7/importlib/_bootstrap.py:219: RuntimeWarning: cymem.cymem.Pool size changed, may indicate binary incompatibility. Expected 48 from C header, got 64 from PyObject\n  return f(*args, **kwds)\n/usr/lib/python3.7/importlib/_bootstrap.py:219: RuntimeWarning: cymem.cymem.Address size changed, may indicate binary incompatibility. Expected 24 from C header, got 40 from PyObject\n  return f(*args, **kwds)\n"
     ]
    },
    {
     "name": "stderr",
     "output_type": "stream",
     "text": [
      "/usr/lib/python3.7/importlib/_bootstrap.py:219: RuntimeWarning: cymem.cymem.Pool size changed, may indicate binary incompatibility. Expected 48 from C header, got 64 from PyObject\n  return f(*args, **kwds)\n/usr/lib/python3.7/importlib/_bootstrap.py:219: RuntimeWarning: cymem.cymem.Address size changed, may indicate binary incompatibility. Expected 24 from C header, got 40 from PyObject\n  return f(*args, **kwds)\n"
     ]
    }
   ],
   "source": [
    "import spacy"
   ]
  },
  {
   "cell_type": "code",
   "execution_count": 2,
   "metadata": {},
   "outputs": [],
   "source": [
    "nlp = spacy.load(\"en\")"
   ]
  },
  {
   "cell_type": "code",
   "execution_count": 3,
   "metadata": {},
   "outputs": [],
   "source": [
    "sentence = \"is any american user use mobile\""
   ]
  },
  {
   "cell_type": "code",
   "execution_count": 4,
   "metadata": {},
   "outputs": [
    {
     "name": "stdout",
     "output_type": "stream",
     "text": [
      "any american user user nsubj use\nmobile mobile dobj use\n"
     ]
    }
   ],
   "source": [
    "doc = nlp(sentence)\n",
    "for chunk in doc.noun_chunks:\n",
    "    print(chunk.text, chunk.root.text, chunk.root.dep_,\n",
    "          chunk.root.head.text)"
   ]
  },
  {
   "cell_type": "code",
   "execution_count": 5,
   "metadata": {},
   "outputs": [],
   "source": [
    "sentence = \"is any mobile users come from american\""
   ]
  },
  {
   "cell_type": "code",
   "execution_count": 6,
   "metadata": {},
   "outputs": [],
   "source": [
    "def find_subj(sentence):\n",
    "    doc = nlp(sentence)\n",
    "    SUBJECTS = [\"nsubj\",\"nsubjpass\"]\n",
    "    OBJECTS = [\"pobj\", \"dobj\"]\n",
    "\n",
    "    for chunk in doc.noun_chunks:\n",
    "        if chunk.root.dep_ in SUBJECTS and chunk.root.text not in [\n",
    "            \"percent\", \"percentage\", \"%\", \"rate\", \"rating\", \"part\", \"perc\", \n",
    "            \"ratio\", \"share\"]:\n",
    "            \n",
    "        print(chunk.text, chunk.root.text, chunk.root.dep_,\n",
    "              chunk.root.head.text)"
   ]
  },
  {
   "cell_type": "code",
   "execution_count": 7,
   "metadata": {},
   "outputs": [
    {
     "name": "stdout",
     "output_type": "stream",
     "text": [
      "any mobile users users nsubj come\n"
     ]
    }
   ],
   "source": [
    "find_subj(sentence)"
   ]
  },
  {
   "cell_type": "code",
   "execution_count": 8,
   "metadata": {},
   "outputs": [
    {
     "name": "stdout",
     "output_type": "stream",
     "text": [
      "more american users users nsubj use\nmobile mobile dobj use\nnov nov pobj on\n"
     ]
    }
   ],
   "source": [
    "find_subj(\"are there more american users use mobile on nov 3\")"
   ]
  },
  {
   "cell_type": "code",
   "execution_count": 9,
   "metadata": {},
   "outputs": [
    {
     "name": "stdout",
     "output_type": "stream",
     "text": [
      "any american user user nsubj use\nmobile mobile dobj use\n"
     ]
    }
   ],
   "source": [
    "find_subj(\"is any american user use mobile\")"
   ]
  },
  {
   "cell_type": "code",
   "execution_count": 10,
   "metadata": {},
   "outputs": [
    {
     "name": "stdout",
     "output_type": "stream",
     "text": [
      "any mobile users users nsubj come\n"
     ]
    }
   ],
   "source": [
    "find_subj(\"is any mobile users come from american\")"
   ]
  },
  {
   "cell_type": "code",
   "execution_count": 11,
   "metadata": {},
   "outputs": [
    {
     "name": "stdout",
     "output_type": "stream",
     "text": [
      "What percent percent nsubj is\nmobile users users pobj of\n"
     ]
    }
   ],
   "source": [
    "find_subj(\"What percent of mobile users is american?\")"
   ]
  },
  {
   "cell_type": "code",
   "execution_count": 12,
   "metadata": {},
   "outputs": [
    {
     "name": "stdout",
     "output_type": "stream",
     "text": [
      "What percent percent nsubj use\namerican users users pobj of\n"
     ]
    }
   ],
   "source": [
    "find_subj(\"What percent of american users use mobile?\")"
   ]
  },
  {
   "cell_type": "code",
   "execution_count": 13,
   "metadata": {},
   "outputs": [
    {
     "name": "stdout",
     "output_type": "stream",
     "text": [
      "What What attr is\nthe percentage percentage nsubj is\namerican users users nsubj use\n"
     ]
    }
   ],
   "source": [
    "find_subj(\"What is the percentage that american users use mobile?\")"
   ]
  },
  {
   "cell_type": "code",
   "execution_count": 14,
   "metadata": {},
   "outputs": [
    {
     "name": "stdout",
     "output_type": "stream",
     "text": [
      "What What attr is\nthe percentage percentage nsubj is\npeople people pobj of\nwho who nsubj use\nmobile mobile dobj use\n"
     ]
    }
   ],
   "source": [
    "find_subj(\"What is the percentage of people who use mobile are american?\")"
   ]
  },
  {
   "cell_type": "code",
   "execution_count": 15,
   "metadata": {},
   "outputs": [
    {
     "name": "stdout",
     "output_type": "stream",
     "text": [
      "mobile users users pobj For\npercent percent appos users\n"
     ]
    }
   ],
   "source": [
    "find_subj(\"For mobile users, percent of american?\")"
   ]
  },
  {
   "cell_type": "code",
   "execution_count": 16,
   "metadata": {},
   "outputs": [
    {
     "name": "stdout",
     "output_type": "stream",
     "text": [
      "social media users users pobj For\npercent percent appos users\n"
     ]
    }
   ],
   "source": [
    "find_subj(\"For social media users, percent of american\")"
   ]
  },
  {
   "cell_type": "code",
   "execution_count": 17,
   "metadata": {},
   "outputs": [
    {
     "name": "stdout",
     "output_type": "stream",
     "text": [
      "What What attr is\nthe percentage percentage nsubj is\npeople people pobj of\nwho who nsubj come\ngoogle google pobj from\nenglish english dobj speak\n"
     ]
    }
   ],
   "source": [
    "find_subj(\"What is the percentage of people who come from google speak english\")"
   ]
  },
  {
   "cell_type": "code",
   "execution_count": 18,
   "metadata": {},
   "outputs": [
    {
     "name": "stdout",
     "output_type": "stream",
     "text": [
      "What What attr is\nthe percentage percentage nsubj is\npeople people pobj of\nwho who nsubj stay\nlonger than 2 minutes minutes dobj stay\n"
     ]
    }
   ],
   "source": [
    "find_subj(\"What is the percentage of people who stay longer than 2 minutes speak english\")"
   ]
  },
  {
   "cell_type": "code",
   "execution_count": 19,
   "metadata": {},
   "outputs": [
    {
     "name": "stdout",
     "output_type": "stream",
     "text": [
      "what percent percent nsubj are\npeople people pobj of\nwho who nsubj stayed\n"
     ]
    }
   ],
   "source": [
    "find_subj(\"what percent of people who stayed 1 minute are american\")"
   ]
  },
  {
   "cell_type": "code",
   "execution_count": 20,
   "metadata": {},
   "outputs": [
    {
     "name": "stdout",
     "output_type": "stream",
     "text": [
      "what percent percent nsubj stayed\npeople people pobj of\n"
     ]
    }
   ],
   "source": [
    "find_subj(\"what percent of people stayed 1 minute are american\")"
   ]
  },
  {
   "cell_type": "code",
   "execution_count": 21,
   "metadata": {},
   "outputs": [
    {
     "name": "stdout",
     "output_type": "stream",
     "text": [
      "what percent percent nsubj stayed\npeople people pobj of\n2 minutes minutes nsubj are\ngermany germany attr are\n"
     ]
    }
   ],
   "source": [
    "find_subj(\"what percent of people stayed between 1 minute and 2 minutes are germany\")"
   ]
  },
  {
   "cell_type": "code",
   "execution_count": 22,
   "metadata": {},
   "outputs": [
    {
     "name": "stdout",
     "output_type": "stream",
     "text": [
      "what percent percent attr are\npeople people pobj of\nwho who nsubj stayed\n5 pages pages dobj stayed\ngermany germany attr are\n"
     ]
    }
   ],
   "source": [
    "find_subj(\"what percent of people who stayed 5 pages are germany\")"
   ]
  },
  {
   "cell_type": "code",
   "execution_count": 23,
   "metadata": {},
   "outputs": [
    {
     "name": "stdout",
     "output_type": "stream",
     "text": [
      "what percent percent nsubj use\nvisitors visitors dobj returning\n"
     ]
    }
   ],
   "source": [
    "find_subj(\"what percent of returning visitors use mobile\")"
   ]
  },
  {
   "cell_type": "code",
   "execution_count": 24,
   "metadata": {},
   "outputs": [
    {
     "name": "stdout",
     "output_type": "stream",
     "text": [
      "any american user user nsubj use\nmobile mobile dobj use\n"
     ]
    }
   ],
   "source": [
    "find_subj(\"is any american user use mobile\")"
   ]
  },
  {
   "cell_type": "code",
   "execution_count": 25,
   "metadata": {},
   "outputs": [
    {
     "name": "stdout",
     "output_type": "stream",
     "text": [
      "anyone anyone attr are\nwho who nsubj use\nmobile mobile dobj use\nnov nov pobj on\n"
     ]
    }
   ],
   "source": [
    "find_subj(\"are there anyone from american who use mobile on nov 3?\")"
   ]
  },
  {
   "cell_type": "code",
   "execution_count": 26,
   "metadata": {},
   "outputs": [
    {
     "name": "stdout",
     "output_type": "stream",
     "text": [
      "more people people attr are\nwho who nsubj come\namerican use use pobj from\nnov nov pobj on\n"
     ]
    }
   ],
   "source": [
    "find_subj(\"are there more people who come from american use mobile on nov \"\n",
    "          \"3?\")"
   ]
  },
  {
   "cell_type": "code",
   "execution_count": 27,
   "metadata": {},
   "outputs": [
    {
     "name": "stdout",
     "output_type": "stream",
     "text": [
      "anyone anyone attr are\nwho who nsubj use\nmobile mobile dobj use\nsep sep pobj in\n"
     ]
    }
   ],
   "source": [
    "find_subj(\"are there anyone who use mobile from american in sep?\")"
   ]
  },
  {
   "cell_type": "code",
   "execution_count": 28,
   "metadata": {},
   "outputs": [
    {
     "name": "stdout",
     "output_type": "stream",
     "text": [
      "anyone anyone attr are\nwho who nsubj use\nmobile mobile dobj use\ngermany germany pobj from\nsep sep pobj in\n"
     ]
    }
   ],
   "source": [
    "find_subj(\"are there anyone who use mobile from germany in sep?\")"
   ]
  },
  {
   "cell_type": "code",
   "execution_count": null,
   "metadata": {},
   "outputs": [],
   "source": []
  }
 ],
 "metadata": {
  "kernelspec": {
   "display_name": "Python 2",
   "language": "python",
   "name": "python2"
  },
  "language_info": {
   "codemirror_mode": {
    "name": "ipython",
    "version": 2
   },
   "file_extension": ".py",
   "mimetype": "text/x-python",
   "name": "python",
   "nbconvert_exporter": "python",
   "pygments_lexer": "ipython2",
   "version": "2.7.6"
  }
 },
 "nbformat": 4,
 "nbformat_minor": 0
}
