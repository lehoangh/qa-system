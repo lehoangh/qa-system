{
 "cells": [
  {
   "cell_type": "code",
   "execution_count": 83,
   "metadata": {},
   "outputs": [
    {
     "name": "stdout",
     "output_type": "stream",
     "text": [
      "1\n",
      "now get a dict with visitorIds and a list of their startTimes\n"
     ]
    }
   ],
   "source": [
    "from datetime import datetime\n",
    "\n",
    "startTimedict = {'visitor1': ['2018-02-05 21:48:31.076', '2018-02-05 21:49:59.617', '2018-02-05 21:52:33.261'],\n",
    "                 'visitor2': ['2018-02-05 21:33:31.200', '2018-02-05 21:48:59.617', '2018-02-05 13:52:33.261']}\n",
    "\n",
    "returningvisitors = []\n",
    "\n",
    "for key in startTimedict:\n",
    "    days = []\n",
    "    times = []\n",
    "    for i in startTimedict[key]:\n",
    "        days.append(i[:10])\n",
    "        times.append(i[11:19])\n",
    " \n",
    "    if len(days) > 1:\n",
    "        if days[0] != days[-1]:\n",
    "            returningvisitors.append(key)\n",
    "            \n",
    "        else:\n",
    "            time1 = times[0]\n",
    "            time2 = times[-1]\n",
    "            FMT = '%H:%M:%S'\n",
    "            difference = str(datetime.strptime(time2, FMT) - datetime.strptime(time1, FMT)).replace('-1 day, ', '')\n",
    "            check = str(datetime.strptime(difference, FMT) - datetime.strptime('02:00:00', FMT))\n",
    "            if check[0] != '-':\n",
    "                returningvisitors.append(key)\n",
    "            else: \n",
    "                pass\n",
    "               \n",
    "\n",
    "print(len(returningvisitors))\n"
   ]
  },
  {
   "cell_type": "code",
   "execution_count": null,
   "metadata": {},
   "outputs": [],
   "source": []
  },
  {
   "cell_type": "code",
   "execution_count": null,
   "metadata": {},
   "outputs": [],
   "source": []
  },
  {
   "cell_type": "code",
   "execution_count": null,
   "metadata": {},
   "outputs": [],
   "source": []
  }
 ],
 "metadata": {
  "kernelspec": {
   "display_name": "Python 3",
   "language": "python",
   "name": "python3"
  },
  "language_info": {
   "codemirror_mode": {
    "name": "ipython",
    "version": 3
   },
   "file_extension": ".py",
   "mimetype": "text/x-python",
   "name": "python",
   "nbconvert_exporter": "python",
   "pygments_lexer": "ipython3",
   "version": "3.6.4"
  }
 },
 "nbformat": 4,
 "nbformat_minor": 2
}
